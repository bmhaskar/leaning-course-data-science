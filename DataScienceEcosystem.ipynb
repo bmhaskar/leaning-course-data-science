{
 "cells": [
  {
   "cell_type": "markdown",
   "id": "dd5eeb06-0a74-45b5-8242-283240ebfcd2",
   "metadata": {},
   "source": [
    "# Data Science Tools and Ecosystem"
   ]
  },
  {
   "cell_type": "markdown",
   "id": "f6c25bf2-27d6-4995-bca0-25a3f7554e8d",
   "metadata": {},
   "source": [
    "In this notebook, Data Science Tools and Ecosystem are summarized."
   ]
  },
  {
   "cell_type": "markdown",
   "id": "e7d191de-ff2f-4a31-a7f2-b8c7122164d8",
   "metadata": {},
   "source": [
    "Some of the popular languages that Data Scientists use are:\n",
    "1. Python\n",
    "2. R\n",
    "3. Julia"
   ]
  },
  {
   "cell_type": "markdown",
   "id": "adf558a1-9963-480f-92c0-e2772993fca3",
   "metadata": {},
   "source": [
    "In this notebook, Data Science Tools and Ecosystem are summarized."
   ]
  },
  {
   "cell_type": "markdown",
   "id": "70142fdc-14ce-4ed3-a3bc-f63880b00ebf",
   "metadata": {},
   "source": [
    "Some of the commonly used libraries used by Data Scientists include:\n",
    "\n",
    "1. pandas\n",
    "2. scikit-learn\n",
    "3. Keras\n",
    "\n",
    "   "
   ]
  },
  {
   "cell_type": "markdown",
   "id": "c8c3627b-d8f7-4f98-9a7f-269614ae4e2d",
   "metadata": {},
   "source": [
    "| Data Science Tools    | \n",
    "| -------- | \n",
    "| VsCode - an IDE  | \n",
    "| Git - A version control system | \n",
    "| Python - An open source language    | \n",
    "\n"
   ]
  },
  {
   "cell_type": "markdown",
   "id": "c1560539-38b4-4915-be4c-68e2583bc6ed",
   "metadata": {},
   "source": [
    "### Below are a few examples of evaluating arithmetic expressions in Python."
   ]
  },
  {
   "cell_type": "code",
   "execution_count": 2,
   "id": "e7d5c3ff-7ea4-4993-8194-dcc4b950c2f3",
   "metadata": {},
   "outputs": [
    {
     "data": {
      "text/plain": [
       "17"
      ]
     },
     "execution_count": 2,
     "metadata": {},
     "output_type": "execute_result"
    }
   ],
   "source": [
    "# This a simple arithmetic expression to mutiply then add integers.\n",
    "\n",
    "(3*4)+5"
   ]
  },
  {
   "cell_type": "code",
   "execution_count": 7,
   "id": "fbed45e7-8340-40af-aceb-99a1a2849176",
   "metadata": {},
   "outputs": [
    {
     "data": {
      "text/plain": [
       "'3 hours  20 minutes'"
      ]
     },
     "execution_count": 7,
     "metadata": {},
     "output_type": "execute_result"
    }
   ],
   "source": [
    " # This will convert 200 minutes to hours by diving by 60.\n",
    "\n",
    "\"{hours} hours  {minutes} minutes\".format(hours=round(200/60), minutes= 200%60)"
   ]
  },
  {
   "cell_type": "markdown",
   "id": "b0bda61d-859a-4249-b0d7-4cddfba35b36",
   "metadata": {},
   "source": [
    "**Objectives:**\n",
    "- Python\n",
    "- R\n",
    "- Julia\n",
    "- Scala"
   ]
  },
  {
   "cell_type": "markdown",
   "id": "63248223-a2e6-437f-af8c-e80e3e18af81",
   "metadata": {},
   "source": [
    "## Author: Bharat"
   ]
  },
  {
   "cell_type": "code",
   "execution_count": null,
   "id": "ad7c6862-a977-492a-b7a8-b55a2b23a91d",
   "metadata": {},
   "outputs": [],
   "source": []
  }
 ],
 "metadata": {
  "kernelspec": {
   "display_name": "Python 3 (ipykernel)",
   "language": "python",
   "name": "python3"
  },
  "language_info": {
   "codemirror_mode": {
    "name": "ipython",
    "version": 3
   },
   "file_extension": ".py",
   "mimetype": "text/x-python",
   "name": "python",
   "nbconvert_exporter": "python",
   "pygments_lexer": "ipython3",
   "version": "3.10.14"
  }
 },
 "nbformat": 4,
 "nbformat_minor": 5
}
